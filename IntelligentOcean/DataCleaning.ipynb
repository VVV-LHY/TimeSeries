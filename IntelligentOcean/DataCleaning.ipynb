{
 "cells": [
  {
   "cell_type": "code",
   "execution_count": 1,
   "metadata": {},
   "outputs": [],
   "source": [
    "import numpy as np\n",
    "import pandas as pd\n",
    "import os\n",
    "import matplotlib.pyplot as plt\n",
    "import seaborn as sns"
   ]
  },
  {
   "cell_type": "code",
   "execution_count": 2,
   "metadata": {},
   "outputs": [],
   "source": [
    "path = './hy_round1_train_20200102/'\n",
    "train_file = os.listdir(path)\n",
    "data = []\n",
    "for each in train_file:\n",
    "    each_path = os.path.join(path, each)\n",
    "    temp = pd.read_csv(each_path)[['渔船ID', 'x', 'y', '速度', '方向', 'time', 'type']]\n",
    "    data.append(temp)\n",
    "train = pd.concat(data)\n",
    "train.rename(columns = {'渔船ID':'ID', '速度' : 'speed', '方向' : 'direction'}, inplace = True)"
   ]
  },
  {
   "cell_type": "code",
   "execution_count": 3,
   "metadata": {},
   "outputs": [
    {
     "data": {
      "text/html": [
       "<div>\n",
       "<style scoped>\n",
       "    .dataframe tbody tr th:only-of-type {\n",
       "        vertical-align: middle;\n",
       "    }\n",
       "\n",
       "    .dataframe tbody tr th {\n",
       "        vertical-align: top;\n",
       "    }\n",
       "\n",
       "    .dataframe thead th {\n",
       "        text-align: right;\n",
       "    }\n",
       "</style>\n",
       "<table border=\"1\" class=\"dataframe\">\n",
       "  <thead>\n",
       "    <tr style=\"text-align: right;\">\n",
       "      <th></th>\n",
       "      <th>ID</th>\n",
       "      <th>x</th>\n",
       "      <th>y</th>\n",
       "      <th>speed</th>\n",
       "      <th>direction</th>\n",
       "      <th>time</th>\n",
       "      <th>type</th>\n",
       "    </tr>\n",
       "  </thead>\n",
       "  <tbody>\n",
       "    <tr>\n",
       "      <td>0</td>\n",
       "      <td>154</td>\n",
       "      <td>6.347783e+06</td>\n",
       "      <td>5.358898e+06</td>\n",
       "      <td>9.88</td>\n",
       "      <td>294</td>\n",
       "      <td>1117 11:56:10</td>\n",
       "      <td>围网</td>\n",
       "    </tr>\n",
       "    <tr>\n",
       "      <td>1</td>\n",
       "      <td>154</td>\n",
       "      <td>6.350684e+06</td>\n",
       "      <td>5.358233e+06</td>\n",
       "      <td>10.09</td>\n",
       "      <td>287</td>\n",
       "      <td>1117 11:46:33</td>\n",
       "      <td>围网</td>\n",
       "    </tr>\n",
       "    <tr>\n",
       "      <td>2</td>\n",
       "      <td>154</td>\n",
       "      <td>6.353685e+06</td>\n",
       "      <td>5.357459e+06</td>\n",
       "      <td>10.09</td>\n",
       "      <td>287</td>\n",
       "      <td>1117 11:36:52</td>\n",
       "      <td>围网</td>\n",
       "    </tr>\n",
       "    <tr>\n",
       "      <td>3</td>\n",
       "      <td>154</td>\n",
       "      <td>6.360489e+06</td>\n",
       "      <td>5.356461e+06</td>\n",
       "      <td>10.09</td>\n",
       "      <td>287</td>\n",
       "      <td>1117 11:26:54</td>\n",
       "      <td>围网</td>\n",
       "    </tr>\n",
       "    <tr>\n",
       "      <td>4</td>\n",
       "      <td>154</td>\n",
       "      <td>6.360489e+06</td>\n",
       "      <td>5.356461e+06</td>\n",
       "      <td>10.09</td>\n",
       "      <td>287</td>\n",
       "      <td>1117 11:16:20</td>\n",
       "      <td>围网</td>\n",
       "    </tr>\n",
       "  </tbody>\n",
       "</table>\n",
       "</div>"
      ],
      "text/plain": [
       "    ID             x             y  speed  direction           time type\n",
       "0  154  6.347783e+06  5.358898e+06   9.88        294  1117 11:56:10   围网\n",
       "1  154  6.350684e+06  5.358233e+06  10.09        287  1117 11:46:33   围网\n",
       "2  154  6.353685e+06  5.357459e+06  10.09        287  1117 11:36:52   围网\n",
       "3  154  6.360489e+06  5.356461e+06  10.09        287  1117 11:26:54   围网\n",
       "4  154  6.360489e+06  5.356461e+06  10.09        287  1117 11:16:20   围网"
      ]
     },
     "execution_count": 3,
     "metadata": {},
     "output_type": "execute_result"
    }
   ],
   "source": [
    "train.head()"
   ]
  },
  {
   "cell_type": "code",
   "execution_count": 4,
   "metadata": {},
   "outputs": [
    {
     "data": {
      "text/html": [
       "<div>\n",
       "<style scoped>\n",
       "    .dataframe tbody tr th:only-of-type {\n",
       "        vertical-align: middle;\n",
       "    }\n",
       "\n",
       "    .dataframe tbody tr th {\n",
       "        vertical-align: top;\n",
       "    }\n",
       "\n",
       "    .dataframe thead th {\n",
       "        text-align: right;\n",
       "    }\n",
       "</style>\n",
       "<table border=\"1\" class=\"dataframe\">\n",
       "  <thead>\n",
       "    <tr style=\"text-align: right;\">\n",
       "      <th></th>\n",
       "      <th>ID</th>\n",
       "      <th>x</th>\n",
       "      <th>y</th>\n",
       "      <th>speed</th>\n",
       "      <th>direction</th>\n",
       "    </tr>\n",
       "  </thead>\n",
       "  <tbody>\n",
       "    <tr>\n",
       "      <td>count</td>\n",
       "      <td>2.699638e+06</td>\n",
       "      <td>2.699638e+06</td>\n",
       "      <td>2.699638e+06</td>\n",
       "      <td>2.699638e+06</td>\n",
       "      <td>2.699638e+06</td>\n",
       "    </tr>\n",
       "    <tr>\n",
       "      <td>mean</td>\n",
       "      <td>3.496035e+03</td>\n",
       "      <td>6.277243e+06</td>\n",
       "      <td>5.271190e+06</td>\n",
       "      <td>1.784449e+00</td>\n",
       "      <td>1.151533e+02</td>\n",
       "    </tr>\n",
       "    <tr>\n",
       "      <td>std</td>\n",
       "      <td>2.020781e+03</td>\n",
       "      <td>2.698065e+05</td>\n",
       "      <td>2.544160e+05</td>\n",
       "      <td>2.478862e+00</td>\n",
       "      <td>1.168515e+02</td>\n",
       "    </tr>\n",
       "    <tr>\n",
       "      <td>min</td>\n",
       "      <td>0.000000e+00</td>\n",
       "      <td>5.000250e+06</td>\n",
       "      <td>3.345433e+06</td>\n",
       "      <td>0.000000e+00</td>\n",
       "      <td>0.000000e+00</td>\n",
       "    </tr>\n",
       "    <tr>\n",
       "      <td>25%</td>\n",
       "      <td>1.739000e+03</td>\n",
       "      <td>6.118054e+06</td>\n",
       "      <td>5.114766e+06</td>\n",
       "      <td>1.100000e-01</td>\n",
       "      <td>0.000000e+00</td>\n",
       "    </tr>\n",
       "    <tr>\n",
       "      <td>50%</td>\n",
       "      <td>3.502000e+03</td>\n",
       "      <td>6.246522e+06</td>\n",
       "      <td>5.229463e+06</td>\n",
       "      <td>3.200000e-01</td>\n",
       "      <td>8.100000e+01</td>\n",
       "    </tr>\n",
       "    <tr>\n",
       "      <td>75%</td>\n",
       "      <td>5.243000e+03</td>\n",
       "      <td>6.365916e+06</td>\n",
       "      <td>5.379267e+06</td>\n",
       "      <td>3.290000e+00</td>\n",
       "      <td>2.170000e+02</td>\n",
       "    </tr>\n",
       "    <tr>\n",
       "      <td>max</td>\n",
       "      <td>6.999000e+03</td>\n",
       "      <td>7.133785e+06</td>\n",
       "      <td>7.667581e+06</td>\n",
       "      <td>1.001600e+02</td>\n",
       "      <td>3.600000e+02</td>\n",
       "    </tr>\n",
       "  </tbody>\n",
       "</table>\n",
       "</div>"
      ],
      "text/plain": [
       "                 ID             x             y         speed     direction\n",
       "count  2.699638e+06  2.699638e+06  2.699638e+06  2.699638e+06  2.699638e+06\n",
       "mean   3.496035e+03  6.277243e+06  5.271190e+06  1.784449e+00  1.151533e+02\n",
       "std    2.020781e+03  2.698065e+05  2.544160e+05  2.478862e+00  1.168515e+02\n",
       "min    0.000000e+00  5.000250e+06  3.345433e+06  0.000000e+00  0.000000e+00\n",
       "25%    1.739000e+03  6.118054e+06  5.114766e+06  1.100000e-01  0.000000e+00\n",
       "50%    3.502000e+03  6.246522e+06  5.229463e+06  3.200000e-01  8.100000e+01\n",
       "75%    5.243000e+03  6.365916e+06  5.379267e+06  3.290000e+00  2.170000e+02\n",
       "max    6.999000e+03  7.133785e+06  7.667581e+06  1.001600e+02  3.600000e+02"
      ]
     },
     "execution_count": 4,
     "metadata": {},
     "output_type": "execute_result"
    }
   ],
   "source": [
    "train.describe()"
   ]
  },
  {
   "cell_type": "markdown",
   "metadata": {},
   "source": [
    "从上面的描述中可以看出，渔船ID为从0到6999，其方位x,y最大最小值均为6位数，速度从0到100多，方向从0到360，时间稍后处理，type为预测类标。\n",
    "所以刚开始我们的思路是，按照渔船ID为分割，对每条渔船以时间为事件发生的轴，以x,y,方向,速度为属性，进行绘图，对结构化的数据以图像处理的方法进行分析，当然这只是第一眼看到数据的方向，接下来要进行更深入的分析。"
   ]
  },
  {
   "cell_type": "code",
   "execution_count": 5,
   "metadata": {},
   "outputs": [
    {
     "data": {
      "text/plain": [
       "ID           0\n",
       "x            0\n",
       "y            0\n",
       "speed        0\n",
       "direction    0\n",
       "time         0\n",
       "type         0\n",
       "dtype: int64"
      ]
     },
     "execution_count": 5,
     "metadata": {},
     "output_type": "execute_result"
    }
   ],
   "source": [
    "train.isnull().sum()"
   ]
  },
  {
   "cell_type": "markdown",
   "metadata": {},
   "source": [
    "很高兴训练集的数据没有为空的，也就是说我们不需要进行差值和删除操作"
   ]
  },
  {
   "cell_type": "code",
   "execution_count": 6,
   "metadata": {},
   "outputs": [
    {
     "data": {
      "text/plain": [
       "拖网    1681225\n",
       "围网     626607\n",
       "刺网     391806\n",
       "Name: type, dtype: int64"
      ]
     },
     "execution_count": 6,
     "metadata": {},
     "output_type": "execute_result"
    }
   ],
   "source": [
    "train['type'].value_counts()"
   ]
  },
  {
   "cell_type": "code",
   "execution_count": 7,
   "metadata": {},
   "outputs": [],
   "source": [
    "train['type'] = train['type'].map({'拖网' : 0, '围网' : 1, '刺网' : 2})"
   ]
  },
  {
   "cell_type": "markdown",
   "metadata": {},
   "source": [
    "本数据集的要求是，分析渔船北斗设备位置数据，得出该船的生产作业行为，具体判断出是拖网作业，围网作业，还是刺网作业，对于训练集而言可以看出标记没有超出这三种的，不需要进行删除。"
   ]
  },
  {
   "cell_type": "code",
   "execution_count": 8,
   "metadata": {},
   "outputs": [
    {
     "data": {
      "image/png": "[encoded data removed]",
      "text/plain": [
       "<Figure size 1440x720 with 2 Axes>"
      ]
     },
     "metadata": {
      "needs_background": "light"
     },
     "output_type": "display_data"
    }
   ],
   "source": [
    "f,[ax1,ax2] = plt.subplots(1,2,figsize = (20,10))#生成子图 共1行2列 f为所有子图的大标题 \n",
    "train['type'].value_counts().plot.pie(autopct = '%1.2f%%',ax = ax1)#饼图用plt.pie\n",
    "sns.countplot(x = 'type',data = train,ax = ax2)#计数直方图用seaborn的countplot，比plt.bar方便一点\n",
    "f.suptitle('Fishing type')#title\n",
    "plt.show()"
   ]
  },
  {
   "cell_type": "code",
   "execution_count": 9,
   "metadata": {},
   "outputs": [
    {
     "data": {
      "text/plain": [
       "speed   type\n",
       "0.00    0       339874\n",
       "        1       108919\n",
       "        2        99429\n",
       "0.05    0        68327\n",
       "        1        21339\n",
       "                 ...  \n",
       "80.73   0            3\n",
       "        1            2\n",
       "90.83   0            2\n",
       "93.15   1            1\n",
       "100.16  0            2\n",
       "Name: type, Length: 602, dtype: int64"
      ]
     },
     "execution_count": 9,
     "metadata": {},
     "output_type": "execute_result"
    }
   ],
   "source": [
    "#python聚合函数 显示速度和作业方式的关系\n",
    "train.groupby(['speed','type'])['type'].count()"
   ]
  },
  {
   "cell_type": "code",
   "execution_count": 10,
   "metadata": {},
   "outputs": [
    {
     "data": {
      "text/plain": [
       "Text(0.5, 1, 'Speed -> type influence')"
      ]
     },
     "execution_count": 10,
     "metadata": {},
     "output_type": "execute_result"
    },
    {
     "data": {
      "image/png": "[encoded data removed]",
      "text/plain": [
       "<Figure size 1440x720 with 1 Axes>"
      ]
     },
     "metadata": {
      "needs_background": "light"
     },
     "output_type": "display_data"
    }
   ],
   "source": [
    "plt.figure(figsize = (20, 10))\n",
    "sns.countplot(x = 'speed',hue = 'type',data = train)\n",
    "ax1.set_title('Speed -> type influence')"
   ]
  },
  {
   "cell_type": "markdown",
   "metadata": {},
   "source": [
    "首先我们需要知道一定的领域知识，拖网捕鱼就是渔船拖着一张网前行把鱼兜进来，围网是渔船绕着圈把一片水域围起来，主要捕捉顶层鱼群，刺网是拦截在鱼群迅游通道上面，让鱼群主动刺上来被缠住，具有一定的选择性。所以直观的来理解，显然拖网是需要渔船速度的，而刺网需要的速度是最小的，围网在某一特定时间如开始阶段需要渔船不断改变速度方向来完成设网。那么由此来理解上图，在速度很小的阶段围网和刺网有很多，但是在速度较大的阶段，渔船大多使用围网捕鱼。                         \n",
    "但是显然地，上图的速度属性是连续数值，没有按照区间进行离散，所以分析起来很困难，下面我们对speed属性进行连续数值离散化操作"
   ]
  },
  {
   "cell_type": "code",
   "execution_count": 11,
   "metadata": {},
   "outputs": [
    {
     "data": {
      "text/html": [
       "<div>\n",
       "<style scoped>\n",
       "    .dataframe tbody tr th:only-of-type {\n",
       "        vertical-align: middle;\n",
       "    }\n",
       "\n",
       "    .dataframe tbody tr th {\n",
       "        vertical-align: top;\n",
       "    }\n",
       "\n",
       "    .dataframe thead th {\n",
       "        text-align: right;\n",
       "    }\n",
       "</style>\n",
       "<table border=\"1\" class=\"dataframe\">\n",
       "  <thead>\n",
       "    <tr style=\"text-align: right;\">\n",
       "      <th></th>\n",
       "      <th>ID</th>\n",
       "      <th>x</th>\n",
       "      <th>y</th>\n",
       "      <th>speed</th>\n",
       "      <th>direction</th>\n",
       "      <th>time</th>\n",
       "      <th>type</th>\n",
       "    </tr>\n",
       "  </thead>\n",
       "  <tbody>\n",
       "    <tr>\n",
       "      <td>0</td>\n",
       "      <td>154</td>\n",
       "      <td>6.347783e+06</td>\n",
       "      <td>5.358898e+06</td>\n",
       "      <td>2</td>\n",
       "      <td>294</td>\n",
       "      <td>1117 11:56:10</td>\n",
       "      <td>1</td>\n",
       "    </tr>\n",
       "    <tr>\n",
       "      <td>1</td>\n",
       "      <td>154</td>\n",
       "      <td>6.350684e+06</td>\n",
       "      <td>5.358233e+06</td>\n",
       "      <td>3</td>\n",
       "      <td>287</td>\n",
       "      <td>1117 11:46:33</td>\n",
       "      <td>1</td>\n",
       "    </tr>\n",
       "    <tr>\n",
       "      <td>2</td>\n",
       "      <td>154</td>\n",
       "      <td>6.353685e+06</td>\n",
       "      <td>5.357459e+06</td>\n",
       "      <td>3</td>\n",
       "      <td>287</td>\n",
       "      <td>1117 11:36:52</td>\n",
       "      <td>1</td>\n",
       "    </tr>\n",
       "    <tr>\n",
       "      <td>3</td>\n",
       "      <td>154</td>\n",
       "      <td>6.360489e+06</td>\n",
       "      <td>5.356461e+06</td>\n",
       "      <td>3</td>\n",
       "      <td>287</td>\n",
       "      <td>1117 11:26:54</td>\n",
       "      <td>1</td>\n",
       "    </tr>\n",
       "    <tr>\n",
       "      <td>4</td>\n",
       "      <td>154</td>\n",
       "      <td>6.360489e+06</td>\n",
       "      <td>5.356461e+06</td>\n",
       "      <td>3</td>\n",
       "      <td>287</td>\n",
       "      <td>1117 11:16:20</td>\n",
       "      <td>1</td>\n",
       "    </tr>\n",
       "  </tbody>\n",
       "</table>\n",
       "</div>"
      ],
      "text/plain": [
       "    ID             x             y speed  direction           time  type\n",
       "0  154  6.347783e+06  5.358898e+06     2        294  1117 11:56:10     1\n",
       "1  154  6.350684e+06  5.358233e+06     3        287  1117 11:46:33     1\n",
       "2  154  6.353685e+06  5.357459e+06     3        287  1117 11:36:52     1\n",
       "3  154  6.360489e+06  5.356461e+06     3        287  1117 11:26:54     1\n",
       "4  154  6.360489e+06  5.356461e+06     3        287  1117 11:16:20     1"
      ]
     },
     "execution_count": 11,
     "metadata": {},
     "output_type": "execute_result"
    }
   ],
   "source": [
    "interval = [0,1,5,10,20,30,50,110]\n",
    "train['speed'] = pd.cut(train['speed'], interval, labels = ['0', '1', '2', '3', '4', '5', '6'])\n",
    "train.head()"
   ]
  },
  {
   "cell_type": "code",
   "execution_count": 12,
   "metadata": {},
   "outputs": [
    {
     "data": {
      "text/plain": [
       "speed  type\n",
       "0      0       554313\n",
       "       1       272154\n",
       "       2       236600\n",
       "1      0       620985\n",
       "       1       169019\n",
       "       2        38239\n",
       "2      0       145240\n",
       "       1        69398\n",
       "       2        16675\n",
       "3      0        20438\n",
       "       1         6963\n",
       "       2          809\n",
       "4      0          250\n",
       "       1          103\n",
       "       2           34\n",
       "5      0           88\n",
       "       1           43\n",
       "       2           16\n",
       "6      0           37\n",
       "       1            8\n",
       "       2            4\n",
       "Name: type, dtype: int64"
      ]
     },
     "execution_count": 12,
     "metadata": {},
     "output_type": "execute_result"
    }
   ],
   "source": [
    "#python聚合函数 显示速度和作业方式的关系\n",
    "train.groupby(['speed','type'])['type'].count()   "
   ]
  },
  {
   "cell_type": "code",
   "execution_count": 13,
   "metadata": {},
   "outputs": [
    {
     "data": {
      "text/plain": [
       "Text(0.5, 1, 'Speed -> type influence')"
      ]
     },
     "execution_count": 13,
     "metadata": {},
     "output_type": "execute_result"
    },
    {
     "data": {
      "image/png": "[encoded data removed]",
      "text/plain": [
       "<Figure size 1440x720 with 1 Axes>"
      ]
     },
     "metadata": {
      "needs_background": "light"
     },
     "output_type": "display_data"
    }
   ],
   "source": [
    "plt.figure(figsize = (20, 10))\n",
    "sns.countplot(x = 'speed',hue = 'type',data = train)\n",
    "ax1.set_title('Speed -> type influence')"
   ]
  },
  {
   "cell_type": "markdown",
   "metadata": {},
   "source": [
    "现在对上图分析，我们将速度在(0,1)之间离散为0，即静止不动，可以看到此时的绿色即刺网占总刺网比重最大，因此刺网的特征就是静止捕鱼，而(1,5)的速度离散为1，可以看到低速行驶是拖网捕鱼的主要特征，围网捕鱼也符合低速行驶的特性，因此单纯就速度而言很难区分围网和拖网捕鱼，由此可以通过方向属性来进行分析。"
   ]
  },
  {
   "cell_type": "code",
   "execution_count": 14,
   "metadata": {},
   "outputs": [
    {
     "data": {
      "text/plain": [
       "direction  type\n",
       "0          0       535111\n",
       "           1       173715\n",
       "           2       159236\n",
       "1          0         2602\n",
       "           1         1439\n",
       "                    ...  \n",
       "359        1         1235\n",
       "           2          572\n",
       "360        0         3225\n",
       "           1         1220\n",
       "           2         4206\n",
       "Name: type, Length: 1083, dtype: int64"
      ]
     },
     "execution_count": 14,
     "metadata": {},
     "output_type": "execute_result"
    }
   ],
   "source": [
    "#python聚合函数 显示方向和作业方式的关系\n",
    "train.groupby(['direction','type'])['type'].count()"
   ]
  },
  {
   "cell_type": "code",
   "execution_count": 15,
   "metadata": {},
   "outputs": [
    {
     "data": {
      "text/plain": [
       "Text(0.5, 1, 'Direction -> type influence')"
      ]
     },
     "execution_count": 15,
     "metadata": {},
     "output_type": "execute_result"
    },
    {
     "data": {
      "image/png": "[encoded data removed]",
      "text/plain": [
       "<Figure size 1440x720 with 1 Axes>"
      ]
     },
     "metadata": {
      "needs_background": "light"
     },
     "output_type": "display_data"
    }
   ],
   "source": [
    "plt.figure(figsize = (20, 10))\n",
    "sns.countplot(x = 'direction',hue = 'type',data = train)\n",
    "ax1.set_title('Direction -> type influence')"
   ]
  },
  {
   "cell_type": "markdown",
   "metadata": {},
   "source": [
    "上图对于方向的分析是错误的，因为单个的方向不能表示任何意义，考虑方向必须考虑某段时间内各个时刻方向的变化情况，这一点我考虑在之后的程序中，以图像的方式进行分析，初步的思路是对某个ID的船只，在其数据表示的各个时刻上以x,y为平面坐标，以方向为矢量方向，构建航向图，并以时间序列模型的方法进行分析"
   ]
  },
  {
   "cell_type": "markdown",
   "metadata": {},
   "source": [
    "下面开始对时间进行转换，将其按照“月日 小时:分钟”的形式转换为python的datetime时间存储形式"
   ]
  },
  {
   "cell_type": "code",
   "execution_count": 16,
   "metadata": {},
   "outputs": [
    {
     "data": {
      "text/html": [
       "<div>\n",
       "<style scoped>\n",
       "    .dataframe tbody tr th:only-of-type {\n",
       "        vertical-align: middle;\n",
       "    }\n",
       "\n",
       "    .dataframe tbody tr th {\n",
       "        vertical-align: top;\n",
       "    }\n",
       "\n",
       "    .dataframe thead th {\n",
       "        text-align: right;\n",
       "    }\n",
       "</style>\n",
       "<table border=\"1\" class=\"dataframe\">\n",
       "  <thead>\n",
       "    <tr style=\"text-align: right;\">\n",
       "      <th></th>\n",
       "      <th>ID</th>\n",
       "      <th>x</th>\n",
       "      <th>y</th>\n",
       "      <th>speed</th>\n",
       "      <th>direction</th>\n",
       "      <th>time</th>\n",
       "      <th>type</th>\n",
       "    </tr>\n",
       "  </thead>\n",
       "  <tbody>\n",
       "    <tr>\n",
       "      <td>0</td>\n",
       "      <td>154</td>\n",
       "      <td>6.347783e+06</td>\n",
       "      <td>5.358898e+06</td>\n",
       "      <td>2</td>\n",
       "      <td>294</td>\n",
       "      <td>1900-11-17 11:56:10</td>\n",
       "      <td>1</td>\n",
       "    </tr>\n",
       "    <tr>\n",
       "      <td>1</td>\n",
       "      <td>154</td>\n",
       "      <td>6.350684e+06</td>\n",
       "      <td>5.358233e+06</td>\n",
       "      <td>3</td>\n",
       "      <td>287</td>\n",
       "      <td>1900-11-17 11:46:33</td>\n",
       "      <td>1</td>\n",
       "    </tr>\n",
       "    <tr>\n",
       "      <td>2</td>\n",
       "      <td>154</td>\n",
       "      <td>6.353685e+06</td>\n",
       "      <td>5.357459e+06</td>\n",
       "      <td>3</td>\n",
       "      <td>287</td>\n",
       "      <td>1900-11-17 11:36:52</td>\n",
       "      <td>1</td>\n",
       "    </tr>\n",
       "    <tr>\n",
       "      <td>3</td>\n",
       "      <td>154</td>\n",
       "      <td>6.360489e+06</td>\n",
       "      <td>5.356461e+06</td>\n",
       "      <td>3</td>\n",
       "      <td>287</td>\n",
       "      <td>1900-11-17 11:26:54</td>\n",
       "      <td>1</td>\n",
       "    </tr>\n",
       "    <tr>\n",
       "      <td>4</td>\n",
       "      <td>154</td>\n",
       "      <td>6.360489e+06</td>\n",
       "      <td>5.356461e+06</td>\n",
       "      <td>3</td>\n",
       "      <td>287</td>\n",
       "      <td>1900-11-17 11:16:20</td>\n",
       "      <td>1</td>\n",
       "    </tr>\n",
       "  </tbody>\n",
       "</table>\n",
       "</div>"
      ],
      "text/plain": [
       "    ID             x             y speed  direction                time  type\n",
       "0  154  6.347783e+06  5.358898e+06     2        294 1900-11-17 11:56:10     1\n",
       "1  154  6.350684e+06  5.358233e+06     3        287 1900-11-17 11:46:33     1\n",
       "2  154  6.353685e+06  5.357459e+06     3        287 1900-11-17 11:36:52     1\n",
       "3  154  6.360489e+06  5.356461e+06     3        287 1900-11-17 11:26:54     1\n",
       "4  154  6.360489e+06  5.356461e+06     3        287 1900-11-17 11:16:20     1"
      ]
     },
     "execution_count": 16,
     "metadata": {},
     "output_type": "execute_result"
    }
   ],
   "source": [
    "train['time'] = pd.to_datetime(train['time'],format = '%m%d %H:%M:%S')\n",
    "train.head()"
   ]
  },
  {
   "cell_type": "markdown",
   "metadata": {},
   "source": [
    "上面的时间戳转化，pandas在默认没有年份传入的时候从1900年开始计算，但是这对于我们之后的处理没有影响，因为本数据集的所有时间数据都是没有年份的脱敏数据，因此我们在研究其变化的时候通常都是几天之内的，在这里只是顺手进行了转化，在之后的转化中，我们只是以时间为事件发生的方向，由于时间跨度很小，年份在不同时间戳的差距上会被减去，所以在这里默认的年份对于我们的研究没有影响。"
   ]
  }
 ],
 "metadata": {
  "kernelspec": {
   "display_name": "Python 3",
   "language": "python",
   "name": "python3"
  },
  "language_info": {
   "codemirror_mode": {
    "name": "ipython",
    "version": 3
   },
   "file_extension": ".py",
   "mimetype": "text/x-python",
   "name": "python",
   "nbconvert_exporter": "python",
   "pygments_lexer": "ipython3",
   "version": "3.7.3"
  }
 },
 "nbformat": 4,
 "nbformat_minor": 2
}
